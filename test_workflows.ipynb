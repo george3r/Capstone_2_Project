{
 "cells": [
  {
   "cell_type": "code",
   "execution_count": 1,
   "metadata": {},
   "outputs": [],
   "source": [
    "import pandas as pd\n",
    "import numpy as np"
   ]
  },
  {
   "cell_type": "code",
   "execution_count": 2,
   "metadata": {},
   "outputs": [],
   "source": [
    "test_data = {\"year\": [1985,1985,1985,1986,1987], \n",
    "            'manufacturer': ['ford','ford','jeep','ford','jeep'],\n",
    "            'fuel': ('gas '*5).split(' ')[:-1],\n",
    "            'transmission': ('automatic '*5).split(' ')[:-1],\n",
    "            'model': ['escape','escape','wrangler','escape','wrangler']}"
   ]
  },
  {
   "cell_type": "code",
   "execution_count": 3,
   "metadata": {},
   "outputs": [
    {
     "data": {
      "text/plain": [
       "{'year': [1985, 1985, 1985, 1986, 1987],\n",
       " 'manufacturer': ['ford', 'ford', 'jeep', 'ford', 'jeep'],\n",
       " 'fuel': ['gas', 'gas', 'gas', 'gas', 'gas'],\n",
       " 'transmission': ['automatic',\n",
       "  'automatic',\n",
       "  'automatic',\n",
       "  'automatic',\n",
       "  'automatic'],\n",
       " 'model': ['escape', 'escape', 'wrangler', 'escape', 'wrangler']}"
      ]
     },
     "execution_count": 3,
     "metadata": {},
     "output_type": "execute_result"
    }
   ],
   "source": [
    "test_data"
   ]
  },
  {
   "cell_type": "code",
   "execution_count": 4,
   "metadata": {},
   "outputs": [
    {
     "data": {
      "text/plain": [
       "[1985, 1985, 1985, 1986, 1987]"
      ]
     },
     "execution_count": 4,
     "metadata": {},
     "output_type": "execute_result"
    }
   ],
   "source": [
    "test_data['year']"
   ]
  },
  {
   "cell_type": "code",
   "execution_count": 5,
   "metadata": {},
   "outputs": [],
   "source": [
    "df = pd.DataFrame(test_data)"
   ]
  },
  {
   "cell_type": "code",
   "execution_count": 6,
   "metadata": {},
   "outputs": [
    {
     "data": {
      "text/html": [
       "<div>\n",
       "<style scoped>\n",
       "    .dataframe tbody tr th:only-of-type {\n",
       "        vertical-align: middle;\n",
       "    }\n",
       "\n",
       "    .dataframe tbody tr th {\n",
       "        vertical-align: top;\n",
       "    }\n",
       "\n",
       "    .dataframe thead th {\n",
       "        text-align: right;\n",
       "    }\n",
       "</style>\n",
       "<table border=\"1\" class=\"dataframe\">\n",
       "  <thead>\n",
       "    <tr style=\"text-align: right;\">\n",
       "      <th></th>\n",
       "      <th>year</th>\n",
       "      <th>manufacturer</th>\n",
       "      <th>fuel</th>\n",
       "      <th>transmission</th>\n",
       "      <th>model</th>\n",
       "    </tr>\n",
       "  </thead>\n",
       "  <tbody>\n",
       "    <tr>\n",
       "      <th>0</th>\n",
       "      <td>1985</td>\n",
       "      <td>ford</td>\n",
       "      <td>gas</td>\n",
       "      <td>automatic</td>\n",
       "      <td>escape</td>\n",
       "    </tr>\n",
       "    <tr>\n",
       "      <th>1</th>\n",
       "      <td>1985</td>\n",
       "      <td>ford</td>\n",
       "      <td>gas</td>\n",
       "      <td>automatic</td>\n",
       "      <td>escape</td>\n",
       "    </tr>\n",
       "    <tr>\n",
       "      <th>2</th>\n",
       "      <td>1985</td>\n",
       "      <td>jeep</td>\n",
       "      <td>gas</td>\n",
       "      <td>automatic</td>\n",
       "      <td>wrangler</td>\n",
       "    </tr>\n",
       "    <tr>\n",
       "      <th>3</th>\n",
       "      <td>1986</td>\n",
       "      <td>ford</td>\n",
       "      <td>gas</td>\n",
       "      <td>automatic</td>\n",
       "      <td>escape</td>\n",
       "    </tr>\n",
       "    <tr>\n",
       "      <th>4</th>\n",
       "      <td>1987</td>\n",
       "      <td>jeep</td>\n",
       "      <td>gas</td>\n",
       "      <td>automatic</td>\n",
       "      <td>wrangler</td>\n",
       "    </tr>\n",
       "  </tbody>\n",
       "</table>\n",
       "</div>"
      ],
      "text/plain": [
       "   year manufacturer fuel transmission     model\n",
       "0  1985         ford  gas    automatic    escape\n",
       "1  1985         ford  gas    automatic    escape\n",
       "2  1985         jeep  gas    automatic  wrangler\n",
       "3  1986         ford  gas    automatic    escape\n",
       "4  1987         jeep  gas    automatic  wrangler"
      ]
     },
     "execution_count": 6,
     "metadata": {},
     "output_type": "execute_result"
    }
   ],
   "source": [
    "df"
   ]
  },
  {
   "cell_type": "code",
   "execution_count": 7,
   "metadata": {},
   "outputs": [],
   "source": [
    "df['year_make_model'] = (df['year'].map(str) + \" \" +\n",
    "                         df['manufacturer'].map(str) + \" \" +\n",
    "                         df['fuel'].map(str) + \" \" +\n",
    "                         df['transmission'].map(str) + \" \" +\n",
    "                         df['model'].map(str) + \" \")"
   ]
  },
  {
   "cell_type": "code",
   "execution_count": 8,
   "metadata": {},
   "outputs": [
    {
     "data": {
      "text/html": [
       "<div>\n",
       "<style scoped>\n",
       "    .dataframe tbody tr th:only-of-type {\n",
       "        vertical-align: middle;\n",
       "    }\n",
       "\n",
       "    .dataframe tbody tr th {\n",
       "        vertical-align: top;\n",
       "    }\n",
       "\n",
       "    .dataframe thead th {\n",
       "        text-align: right;\n",
       "    }\n",
       "</style>\n",
       "<table border=\"1\" class=\"dataframe\">\n",
       "  <thead>\n",
       "    <tr style=\"text-align: right;\">\n",
       "      <th></th>\n",
       "      <th>year</th>\n",
       "      <th>manufacturer</th>\n",
       "      <th>fuel</th>\n",
       "      <th>transmission</th>\n",
       "      <th>model</th>\n",
       "      <th>year_make_model</th>\n",
       "    </tr>\n",
       "  </thead>\n",
       "  <tbody>\n",
       "    <tr>\n",
       "      <th>0</th>\n",
       "      <td>1985</td>\n",
       "      <td>ford</td>\n",
       "      <td>gas</td>\n",
       "      <td>automatic</td>\n",
       "      <td>escape</td>\n",
       "      <td>1985 ford gas automatic escape</td>\n",
       "    </tr>\n",
       "    <tr>\n",
       "      <th>1</th>\n",
       "      <td>1985</td>\n",
       "      <td>ford</td>\n",
       "      <td>gas</td>\n",
       "      <td>automatic</td>\n",
       "      <td>escape</td>\n",
       "      <td>1985 ford gas automatic escape</td>\n",
       "    </tr>\n",
       "    <tr>\n",
       "      <th>2</th>\n",
       "      <td>1985</td>\n",
       "      <td>jeep</td>\n",
       "      <td>gas</td>\n",
       "      <td>automatic</td>\n",
       "      <td>wrangler</td>\n",
       "      <td>1985 jeep gas automatic wrangler</td>\n",
       "    </tr>\n",
       "    <tr>\n",
       "      <th>3</th>\n",
       "      <td>1986</td>\n",
       "      <td>ford</td>\n",
       "      <td>gas</td>\n",
       "      <td>automatic</td>\n",
       "      <td>escape</td>\n",
       "      <td>1986 ford gas automatic escape</td>\n",
       "    </tr>\n",
       "    <tr>\n",
       "      <th>4</th>\n",
       "      <td>1987</td>\n",
       "      <td>jeep</td>\n",
       "      <td>gas</td>\n",
       "      <td>automatic</td>\n",
       "      <td>wrangler</td>\n",
       "      <td>1987 jeep gas automatic wrangler</td>\n",
       "    </tr>\n",
       "  </tbody>\n",
       "</table>\n",
       "</div>"
      ],
      "text/plain": [
       "   year manufacturer fuel transmission     model  \\\n",
       "0  1985         ford  gas    automatic    escape   \n",
       "1  1985         ford  gas    automatic    escape   \n",
       "2  1985         jeep  gas    automatic  wrangler   \n",
       "3  1986         ford  gas    automatic    escape   \n",
       "4  1987         jeep  gas    automatic  wrangler   \n",
       "\n",
       "                     year_make_model  \n",
       "0    1985 ford gas automatic escape   \n",
       "1    1985 ford gas automatic escape   \n",
       "2  1985 jeep gas automatic wrangler   \n",
       "3    1986 ford gas automatic escape   \n",
       "4  1987 jeep gas automatic wrangler   "
      ]
     },
     "execution_count": 8,
     "metadata": {},
     "output_type": "execute_result"
    }
   ],
   "source": [
    "df"
   ]
  },
  {
   "cell_type": "code",
   "execution_count": 23,
   "metadata": {},
   "outputs": [
    {
     "name": "stdout",
     "output_type": "stream",
     "text": [
      "1985 ford gas automatic escape\n",
      "1985 jeep gas automatic wrangler\n",
      "1986 ford gas automatic escape\n",
      "1987 jeep gas automatic wrangler\n"
     ]
    }
   ],
   "source": [
    "for year in df['year'].unique():\n",
    "    manufacturers = df['manufacturer'].loc[df['year'] == year].unique()\n",
    "    for manuf in manufacturers:\n",
    "        fuels = df['fuel'].loc[\n",
    "            (df['year'] == year) & \n",
    "            (df['manufacturer'] == manuf)].unique()\n",
    "        for fuel in fuels:\n",
    "            transmissions = df['transmission'].loc[\n",
    "                (df['year'] == year) & \n",
    "                (df['manufacturer'] == manuf) & \n",
    "                (df['fuel'] == fuel)].unique()\n",
    "            for trany in transmissions:\n",
    "                models = df['model'].loc[\n",
    "                    (df['year'] == year) & \n",
    "                    (df['manufacturer'] == manuf) & \n",
    "                    (df['fuel'] == fuel) &\n",
    "                    (df['transmission'] == trany)].unique()\n",
    "                for model in models:\n",
    "                    print(f\"{year} {manuf} {fuel} {trany} {model}\")"
   ]
  },
  {
   "cell_type": "code",
   "execution_count": null,
   "metadata": {},
   "outputs": [],
   "source": []
  },
  {
   "cell_type": "code",
   "execution_count": null,
   "metadata": {},
   "outputs": [],
   "source": []
  },
  {
   "cell_type": "code",
   "execution_count": 9,
   "metadata": {},
   "outputs": [],
   "source": [
    "df_unique = df.drop_duplicates()"
   ]
  },
  {
   "cell_type": "code",
   "execution_count": 10,
   "metadata": {},
   "outputs": [
    {
     "data": {
      "text/html": [
       "<div>\n",
       "<style scoped>\n",
       "    .dataframe tbody tr th:only-of-type {\n",
       "        vertical-align: middle;\n",
       "    }\n",
       "\n",
       "    .dataframe tbody tr th {\n",
       "        vertical-align: top;\n",
       "    }\n",
       "\n",
       "    .dataframe thead th {\n",
       "        text-align: right;\n",
       "    }\n",
       "</style>\n",
       "<table border=\"1\" class=\"dataframe\">\n",
       "  <thead>\n",
       "    <tr style=\"text-align: right;\">\n",
       "      <th></th>\n",
       "      <th>year</th>\n",
       "      <th>manufacturer</th>\n",
       "      <th>fuel</th>\n",
       "      <th>transmission</th>\n",
       "      <th>model</th>\n",
       "      <th>year_make_model</th>\n",
       "    </tr>\n",
       "  </thead>\n",
       "  <tbody>\n",
       "    <tr>\n",
       "      <th>0</th>\n",
       "      <td>1985</td>\n",
       "      <td>ford</td>\n",
       "      <td>gas</td>\n",
       "      <td>automatic</td>\n",
       "      <td>escape</td>\n",
       "      <td>1985 ford gas automatic escape</td>\n",
       "    </tr>\n",
       "    <tr>\n",
       "      <th>2</th>\n",
       "      <td>1985</td>\n",
       "      <td>jeep</td>\n",
       "      <td>gas</td>\n",
       "      <td>automatic</td>\n",
       "      <td>wrangler</td>\n",
       "      <td>1985 jeep gas automatic wrangler</td>\n",
       "    </tr>\n",
       "    <tr>\n",
       "      <th>3</th>\n",
       "      <td>1986</td>\n",
       "      <td>ford</td>\n",
       "      <td>gas</td>\n",
       "      <td>automatic</td>\n",
       "      <td>escape</td>\n",
       "      <td>1986 ford gas automatic escape</td>\n",
       "    </tr>\n",
       "    <tr>\n",
       "      <th>4</th>\n",
       "      <td>1987</td>\n",
       "      <td>jeep</td>\n",
       "      <td>gas</td>\n",
       "      <td>automatic</td>\n",
       "      <td>wrangler</td>\n",
       "      <td>1987 jeep gas automatic wrangler</td>\n",
       "    </tr>\n",
       "  </tbody>\n",
       "</table>\n",
       "</div>"
      ],
      "text/plain": [
       "   year manufacturer fuel transmission     model  \\\n",
       "0  1985         ford  gas    automatic    escape   \n",
       "2  1985         jeep  gas    automatic  wrangler   \n",
       "3  1986         ford  gas    automatic    escape   \n",
       "4  1987         jeep  gas    automatic  wrangler   \n",
       "\n",
       "                     year_make_model  \n",
       "0    1985 ford gas automatic escape   \n",
       "2  1985 jeep gas automatic wrangler   \n",
       "3    1986 ford gas automatic escape   \n",
       "4  1987 jeep gas automatic wrangler   "
      ]
     },
     "execution_count": 10,
     "metadata": {},
     "output_type": "execute_result"
    }
   ],
   "source": [
    "df_unique"
   ]
  },
  {
   "cell_type": "code",
   "execution_count": null,
   "metadata": {},
   "outputs": [],
   "source": []
  },
  {
   "cell_type": "code",
   "execution_count": null,
   "metadata": {},
   "outputs": [],
   "source": []
  },
  {
   "cell_type": "code",
   "execution_count": null,
   "metadata": {},
   "outputs": [],
   "source": []
  },
  {
   "cell_type": "code",
   "execution_count": 11,
   "metadata": {},
   "outputs": [
    {
     "name": "stderr",
     "output_type": "stream",
     "text": [
      "C:\\Users\\George\\anaconda3\\lib\\site-packages\\ipykernel_launcher.py:1: SettingWithCopyWarning: \n",
      "A value is trying to be set on a copy of a slice from a DataFrame.\n",
      "Try using .loc[row_indexer,col_indexer] = value instead\n",
      "\n",
      "See the caveats in the documentation: https://pandas.pydata.org/pandas-docs/stable/user_guide/indexing.html#returning-a-view-versus-a-copy\n",
      "  \"\"\"Entry point for launching an IPython kernel.\n"
     ]
    }
   ],
   "source": [
    "df_unique['matched_model'] = ['ESCAPE','WRANGLER','ESCAPE','WRANGLER']"
   ]
  },
  {
   "cell_type": "code",
   "execution_count": 12,
   "metadata": {},
   "outputs": [
    {
     "data": {
      "text/html": [
       "<div>\n",
       "<style scoped>\n",
       "    .dataframe tbody tr th:only-of-type {\n",
       "        vertical-align: middle;\n",
       "    }\n",
       "\n",
       "    .dataframe tbody tr th {\n",
       "        vertical-align: top;\n",
       "    }\n",
       "\n",
       "    .dataframe thead th {\n",
       "        text-align: right;\n",
       "    }\n",
       "</style>\n",
       "<table border=\"1\" class=\"dataframe\">\n",
       "  <thead>\n",
       "    <tr style=\"text-align: right;\">\n",
       "      <th></th>\n",
       "      <th>year</th>\n",
       "      <th>manufacturer</th>\n",
       "      <th>fuel</th>\n",
       "      <th>transmission</th>\n",
       "      <th>model</th>\n",
       "      <th>year_make_model</th>\n",
       "      <th>matched_model</th>\n",
       "    </tr>\n",
       "  </thead>\n",
       "  <tbody>\n",
       "    <tr>\n",
       "      <th>0</th>\n",
       "      <td>1985</td>\n",
       "      <td>ford</td>\n",
       "      <td>gas</td>\n",
       "      <td>automatic</td>\n",
       "      <td>escape</td>\n",
       "      <td>1985 ford gas automatic escape</td>\n",
       "      <td>ESCAPE</td>\n",
       "    </tr>\n",
       "    <tr>\n",
       "      <th>2</th>\n",
       "      <td>1985</td>\n",
       "      <td>jeep</td>\n",
       "      <td>gas</td>\n",
       "      <td>automatic</td>\n",
       "      <td>wrangler</td>\n",
       "      <td>1985 jeep gas automatic wrangler</td>\n",
       "      <td>WRANGLER</td>\n",
       "    </tr>\n",
       "    <tr>\n",
       "      <th>3</th>\n",
       "      <td>1986</td>\n",
       "      <td>ford</td>\n",
       "      <td>gas</td>\n",
       "      <td>automatic</td>\n",
       "      <td>escape</td>\n",
       "      <td>1986 ford gas automatic escape</td>\n",
       "      <td>ESCAPE</td>\n",
       "    </tr>\n",
       "    <tr>\n",
       "      <th>4</th>\n",
       "      <td>1987</td>\n",
       "      <td>jeep</td>\n",
       "      <td>gas</td>\n",
       "      <td>automatic</td>\n",
       "      <td>wrangler</td>\n",
       "      <td>1987 jeep gas automatic wrangler</td>\n",
       "      <td>WRANGLER</td>\n",
       "    </tr>\n",
       "  </tbody>\n",
       "</table>\n",
       "</div>"
      ],
      "text/plain": [
       "   year manufacturer fuel transmission     model  \\\n",
       "0  1985         ford  gas    automatic    escape   \n",
       "2  1985         jeep  gas    automatic  wrangler   \n",
       "3  1986         ford  gas    automatic    escape   \n",
       "4  1987         jeep  gas    automatic  wrangler   \n",
       "\n",
       "                     year_make_model matched_model  \n",
       "0    1985 ford gas automatic escape         ESCAPE  \n",
       "2  1985 jeep gas automatic wrangler       WRANGLER  \n",
       "3    1986 ford gas automatic escape         ESCAPE  \n",
       "4  1987 jeep gas automatic wrangler       WRANGLER  "
      ]
     },
     "execution_count": 12,
     "metadata": {},
     "output_type": "execute_result"
    }
   ],
   "source": [
    "df_unique"
   ]
  },
  {
   "cell_type": "code",
   "execution_count": null,
   "metadata": {},
   "outputs": [],
   "source": []
  },
  {
   "cell_type": "code",
   "execution_count": null,
   "metadata": {},
   "outputs": [],
   "source": []
  },
  {
   "cell_type": "code",
   "execution_count": null,
   "metadata": {},
   "outputs": [],
   "source": []
  },
  {
   "cell_type": "code",
   "execution_count": 16,
   "metadata": {},
   "outputs": [],
   "source": [
    "df_merged = pd.merge(df,df_unique, on = ['year_make_model','year_make_model'])"
   ]
  },
  {
   "cell_type": "code",
   "execution_count": 17,
   "metadata": {},
   "outputs": [
    {
     "data": {
      "text/html": [
       "<div>\n",
       "<style scoped>\n",
       "    .dataframe tbody tr th:only-of-type {\n",
       "        vertical-align: middle;\n",
       "    }\n",
       "\n",
       "    .dataframe tbody tr th {\n",
       "        vertical-align: top;\n",
       "    }\n",
       "\n",
       "    .dataframe thead th {\n",
       "        text-align: right;\n",
       "    }\n",
       "</style>\n",
       "<table border=\"1\" class=\"dataframe\">\n",
       "  <thead>\n",
       "    <tr style=\"text-align: right;\">\n",
       "      <th></th>\n",
       "      <th>year_x</th>\n",
       "      <th>manufacturer_x</th>\n",
       "      <th>fuel_x</th>\n",
       "      <th>transmission_x</th>\n",
       "      <th>model_x</th>\n",
       "      <th>year_make_model</th>\n",
       "      <th>year_y</th>\n",
       "      <th>manufacturer_y</th>\n",
       "      <th>fuel_y</th>\n",
       "      <th>transmission_y</th>\n",
       "      <th>model_y</th>\n",
       "      <th>matched_model</th>\n",
       "    </tr>\n",
       "  </thead>\n",
       "  <tbody>\n",
       "    <tr>\n",
       "      <th>0</th>\n",
       "      <td>1985</td>\n",
       "      <td>ford</td>\n",
       "      <td>gas</td>\n",
       "      <td>automatic</td>\n",
       "      <td>escape</td>\n",
       "      <td>1985 ford gas automatic escape</td>\n",
       "      <td>1985</td>\n",
       "      <td>ford</td>\n",
       "      <td>gas</td>\n",
       "      <td>automatic</td>\n",
       "      <td>escape</td>\n",
       "      <td>ESCAPE</td>\n",
       "    </tr>\n",
       "    <tr>\n",
       "      <th>1</th>\n",
       "      <td>1985</td>\n",
       "      <td>ford</td>\n",
       "      <td>gas</td>\n",
       "      <td>automatic</td>\n",
       "      <td>escape</td>\n",
       "      <td>1985 ford gas automatic escape</td>\n",
       "      <td>1985</td>\n",
       "      <td>ford</td>\n",
       "      <td>gas</td>\n",
       "      <td>automatic</td>\n",
       "      <td>escape</td>\n",
       "      <td>ESCAPE</td>\n",
       "    </tr>\n",
       "    <tr>\n",
       "      <th>2</th>\n",
       "      <td>1985</td>\n",
       "      <td>jeep</td>\n",
       "      <td>gas</td>\n",
       "      <td>automatic</td>\n",
       "      <td>wrangler</td>\n",
       "      <td>1985 jeep gas automatic wrangler</td>\n",
       "      <td>1985</td>\n",
       "      <td>jeep</td>\n",
       "      <td>gas</td>\n",
       "      <td>automatic</td>\n",
       "      <td>wrangler</td>\n",
       "      <td>WRANGLER</td>\n",
       "    </tr>\n",
       "    <tr>\n",
       "      <th>3</th>\n",
       "      <td>1986</td>\n",
       "      <td>ford</td>\n",
       "      <td>gas</td>\n",
       "      <td>automatic</td>\n",
       "      <td>escape</td>\n",
       "      <td>1986 ford gas automatic escape</td>\n",
       "      <td>1986</td>\n",
       "      <td>ford</td>\n",
       "      <td>gas</td>\n",
       "      <td>automatic</td>\n",
       "      <td>escape</td>\n",
       "      <td>ESCAPE</td>\n",
       "    </tr>\n",
       "    <tr>\n",
       "      <th>4</th>\n",
       "      <td>1987</td>\n",
       "      <td>jeep</td>\n",
       "      <td>gas</td>\n",
       "      <td>automatic</td>\n",
       "      <td>wrangler</td>\n",
       "      <td>1987 jeep gas automatic wrangler</td>\n",
       "      <td>1987</td>\n",
       "      <td>jeep</td>\n",
       "      <td>gas</td>\n",
       "      <td>automatic</td>\n",
       "      <td>wrangler</td>\n",
       "      <td>WRANGLER</td>\n",
       "    </tr>\n",
       "  </tbody>\n",
       "</table>\n",
       "</div>"
      ],
      "text/plain": [
       "   year_x manufacturer_x fuel_x transmission_x   model_x  \\\n",
       "0    1985           ford    gas      automatic    escape   \n",
       "1    1985           ford    gas      automatic    escape   \n",
       "2    1985           jeep    gas      automatic  wrangler   \n",
       "3    1986           ford    gas      automatic    escape   \n",
       "4    1987           jeep    gas      automatic  wrangler   \n",
       "\n",
       "                     year_make_model  year_y manufacturer_y fuel_y  \\\n",
       "0    1985 ford gas automatic escape     1985           ford    gas   \n",
       "1    1985 ford gas automatic escape     1985           ford    gas   \n",
       "2  1985 jeep gas automatic wrangler     1985           jeep    gas   \n",
       "3    1986 ford gas automatic escape     1986           ford    gas   \n",
       "4  1987 jeep gas automatic wrangler     1987           jeep    gas   \n",
       "\n",
       "  transmission_y   model_y matched_model  \n",
       "0      automatic    escape        ESCAPE  \n",
       "1      automatic    escape        ESCAPE  \n",
       "2      automatic  wrangler      WRANGLER  \n",
       "3      automatic    escape        ESCAPE  \n",
       "4      automatic  wrangler      WRANGLER  "
      ]
     },
     "execution_count": 17,
     "metadata": {},
     "output_type": "execute_result"
    }
   ],
   "source": [
    "df_merged"
   ]
  },
  {
   "cell_type": "code",
   "execution_count": null,
   "metadata": {},
   "outputs": [],
   "source": []
  }
 ],
 "metadata": {
  "kernelspec": {
   "display_name": "Python 3",
   "language": "python",
   "name": "python3"
  },
  "language_info": {
   "codemirror_mode": {
    "name": "ipython",
    "version": 3
   },
   "file_extension": ".py",
   "mimetype": "text/x-python",
   "name": "python",
   "nbconvert_exporter": "python",
   "pygments_lexer": "ipython3",
   "version": "3.7.6"
  }
 },
 "nbformat": 4,
 "nbformat_minor": 4
}
